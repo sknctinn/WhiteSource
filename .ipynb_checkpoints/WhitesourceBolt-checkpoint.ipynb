{
 "cells": [
  {
   "cell_type": "code",
   "execution_count": 9,
   "metadata": {},
   "outputs": [
    {
     "name": "stdout",
     "output_type": "stream",
     "text": [
      "1.xlsx\n",
      "High Threat = 3\n",
      "Without duplicate Names\n",
      "0     a\n",
      "12    b\n",
      "Name: Name, dtype: object\n"
     ]
    },
    {
     "data": {
      "image/png": "[encoded data removed]",
      "text/plain": [
       "<Figure size 432x288 with 1 Axes>"
      ]
     },
     "metadata": {
      "needs_background": "light"
     },
     "output_type": "display_data"
    },
    {
     "name": "stdout",
     "output_type": "stream",
     "text": [
      "UM.VIS-riskReport.xlsx\n",
      "High Threat = 18\n",
      "Without duplicate Names\n",
      "6     CVE-2019-13173\n",
      "7     CVE-2019-10744\n",
      "16    CVE-2017-18214\n",
      "48     CVE-2017-0247\n",
      "49     CVE-2017-0248\n",
      "50     CVE-2017-0249\n",
      "63    CVE-2018-11499\n",
      "64    CVE-2018-11693\n",
      "65    CVE-2018-11697\n",
      "66    CVE-2018-11698\n",
      "68    CVE-2018-19827\n",
      "Name: Name, dtype: object\n"
     ]
    },
    {
     "data": {
      "image/png": "[encoded data removed]",
      "text/plain": [
       "<Figure size 432x288 with 1 Axes>"
      ]
     },
     "metadata": {
      "needs_background": "light"
     },
     "output_type": "display_data"
    },
    {
     "name": "stdout",
     "output_type": "stream",
     "text": [
      "Program Completed\n"
     ]
    }
   ],
   "source": [
    "    #import Libraries\n",
    "import os,sys, pandas as pd\n",
    "from pandas import ExcelWriter\n",
    "from pandas import ExcelFile\n",
    "import csv\n",
    "import statistics as statds\n",
    "import matplotlib.pyplot as plt\n",
    " \n",
    "    #Enter Folder Path \n",
    "folder_path = \"C:/Users/sknc/Downloads/WhiteSourceBoltExcelFiles\"\n",
    " \n",
    "\n",
    "    \n",
    "    \n",
    "    #To Get Folder path from Command line\n",
    "    if len(sys.argv) == 2:\n",
    "        folder_path = sys.argv[1]\n",
    " \n",
    "    #Get File details to a list\n",
    "    file_list = os.listdir(folder_path)\n",
    " \n",
    "    #Read File one by one\n",
    "    for file_name in file_list:\n",
    "        print(file_name)\n",
    "        \n",
    "        df = pd.read_excel(folder_path+\"/\"+file_name)\n",
    "\n",
    "        #print(\"Column headings:\")\n",
    "        #print(df.columns)\n",
    "        #print(df)\n",
    "        \n",
    "        \n",
    "        HighRisk = df.loc[df['Severity'] == 'High']\n",
    "        RiskAmount = len(HighRisk)\n",
    "        \n",
    "        print(\"High Threat\" + ' = ' + str(RiskAmount))\n",
    "        ##print(HighRisk['Name'])\n",
    "        \n",
    "        \n",
    "        print(\"Without duplicate Names\") \n",
    "        print(HighRisk['Name'].drop_duplicates() )\n",
    "        \n",
    "        \n",
    "        ##print(\"Reduced Fixes\") \n",
    "        #print(HighRisk['Top\\ Fix'].drop_duplicates() )\n",
    "        \n",
    "        \n",
    "        \n",
    "        plt.plot([1,2,3,4], [1,4,9,16], 'ro')\n",
    "        plt.axis([0, len(HighRisk), 0, 20])\n",
    "        plt.show()\n",
    "        \n",
    "    #Program End\n",
    "    print(\"Program Completed\")"
   ]
  },
  {
   "cell_type": "code",
   "execution_count": null,
   "metadata": {},
   "outputs": [],
   "source": []
  }
 ],
 "metadata": {
  "kernelspec": {
   "display_name": "Python 3",
   "language": "python",
   "name": "python3"
  },
  "language_info": {
   "codemirror_mode": {
    "name": "ipython",
    "version": 3
   },
   "file_extension": ".py",
   "mimetype": "text/x-python",
   "name": "python",
   "nbconvert_exporter": "python",
   "pygments_lexer": "ipython3",
   "version": "3.7.3"
  }
 },
 "nbformat": 4,
 "nbformat_minor": 2
}
